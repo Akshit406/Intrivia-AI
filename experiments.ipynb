{
 "cells": [
  {
   "cell_type": "code",
   "execution_count": 1,
   "id": "e75468a8",
   "metadata": {},
   "outputs": [],
   "source": [
    "# from agent.graph import graph\n",
    "# from IPython.display import Image, display\n",
    "\n",
    "# try:\n",
    "#     display(Image(graph.get_graph().draw_mermaid_png()))\n",
    "# except Exception as e:\n",
    "#     print(e)\n"
   ]
  },
  {
   "cell_type": "code",
   "execution_count": 2,
   "id": "be48c63f",
   "metadata": {},
   "outputs": [],
   "source": [
    "# from agent.agent_router import interact_with_agent\n",
    "# user_input=''\n",
    "# while(user_input!='EXIT'):\n",
    "#     user_input=input(\"Enter your answer: \")\n",
    "#     question_id=int(input(\"Enter question id: \"))\n",
    "#     result=interact_with_agent(user_input,question_id,'abcd','abcd')\n",
    "#     print(\"--------------STATE-----------------\")\n",
    "#     print(result)\n"
   ]
  },
  {
   "cell_type": "code",
   "execution_count": 9,
   "id": "e67dbe3b",
   "metadata": {},
   "outputs": [
    {
     "name": "stdout",
     "output_type": "stream",
     "text": [
      "[{'_id': ObjectId('689a06f97d293cfaf97b93a8'), 'title': 'APIs basics', 'description': 'Introduction to API', 'upvotes': 0, 'date': '2025-08-11', 'creator': 'ADMIN', 'QAset': [{'question': 'What is an API, and why is it important?', 'answer': 'An ideal answer should define API as an application programming interface that enables different software systems to communicate. Key points should include: APIs facilitate interaction between applications, abstracting complex implementation details. They allow applications to access data and functionality from other services without needing to understand the underlying code. The answer should cover the benefits such as enabling modularity, reusability, and easier integration of different systems.'}, {'question': 'Explain how APIs work using a real-world analogy.', 'answer': \"The response should provide an analogy, such as making a restaurant reservation, to explain the role of an API. Key points: The customer represents an application making a request. The restaurant is another application providing a service. The customer service person acts as the API, handling communication between the customer and the restaurant's internal systems. The API allows the customer to make requests (e.g., change the reservation) without needing to know the restaurant's internal processes.\"}, {'question': \"Describe a technical example of API usage, such as Apple's Weather app.\", 'answer': \"The answer should explain how Apple's Weather app uses an API to retrieve weather data. Key points: Apple doesn't need to set up its own weather monitoring stations. Instead, it uses an API provided by a weather data service like weather.com. The API allows Apple to access weather data in a structured way. This demonstrates how APIs enable applications to leverage existing services and data sources.\"}, {'question': 'How do web APIs typically handle requests and responses?', 'answer': 'An ideal answer should explain the request-response cycle in web APIs. Key points: Web APIs commonly use JSON or XML to format data. Communication usually occurs over HTTP. A request includes a server endpoint URL and a request method (e.g., GET, POST). The HTTP response contains a status code, headers, and a response body. The response body contains the requested data or application-specific messages.'}, {'question': 'What is an API call, and what does it typically consist of?', 'answer': 'The response should define an API call and its components. Key points: An API call is a request-response cycle between a client and a server. It consists of a request sent by the client and a response returned by the server. The request typically includes a server endpoint URL and a request method. The response includes a status code, headers, and a response body.'}, {'question': 'Explain the significance of HTTP status codes in API responses, providing an example.', 'answer': 'The answer should explain the role of HTTP status codes in indicating the outcome of an API request. Key points: Status codes provide information about whether a request was successful or encountered an error. Example: The 404 status code indicates that the requested URL was not found. Other common status codes include 200 (OK), 400 (Bad Request), and 500 (Internal Server Error).'}], 'source': 'youtube', 'tags': ['API', 'Flask', 'Django', 'Beginners']}]\n"
     ]
    }
   ],
   "source": [
    "from initializers.initialize_db import initialize_db\n",
    "db=initialize_db()\n",
    "collection = db.Intrivia.interviews\n",
    "interviews = list(collection.find({'tags':'api'.upper()}))\n",
    "print(interviews)"
   ]
  }
 ],
 "metadata": {
  "kernelspec": {
   "display_name": "venv",
   "language": "python",
   "name": "python3"
  },
  "language_info": {
   "codemirror_mode": {
    "name": "ipython",
    "version": 3
   },
   "file_extension": ".py",
   "mimetype": "text/x-python",
   "name": "python",
   "nbconvert_exporter": "python",
   "pygments_lexer": "ipython3",
   "version": "3.12.4"
  }
 },
 "nbformat": 4,
 "nbformat_minor": 5
}
